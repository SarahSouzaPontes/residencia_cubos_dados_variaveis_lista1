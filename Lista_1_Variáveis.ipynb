{
  "cells": [
    {
      "cell_type": "markdown",
      "metadata": {
        "id": "view-in-github",
        "colab_type": "text"
      },
      "source": [
        "<a href=\"https://colab.research.google.com/github/SarahSouzaPontes/residencia_cubos_dados_variaveis_lista1/blob/main/Lista_1_Vari%C3%A1veis.ipynb\" target=\"_parent\"><img src=\"https://colab.research.google.com/assets/colab-badge.svg\" alt=\"Open In Colab\"/></a>"
      ]
    },
    {
      "cell_type": "markdown",
      "metadata": {
        "id": "r8GrHLT4syil"
      },
      "source": [
        "# Exercício - Variáveis"
      ]
    },
    {
      "cell_type": "markdown",
      "metadata": {
        "id": "ibgs55zJs3hR"
      },
      "source": [
        "## Exercício 01\n",
        "\n",
        "1. Declare na célula abaixo uma variável com o nome que quiser\n",
        "2. Guarde o nome da sua cidade natal nela\n",
        "3. Imprima essa variável na tela"
      ]
    },
    {
      "cell_type": "code",
      "execution_count": 1,
      "metadata": {
        "id": "S1HfyJ7NstgU",
        "colab": {
          "base_uri": "https://localhost:8080/"
        },
        "outputId": "20047d53-03d1-4c3b-d22a-a6a797d3c030"
      },
      "outputs": [
        {
          "output_type": "stream",
          "name": "stdout",
          "text": [
            "Exemplo de mensagem!\n"
          ]
        }
      ],
      "source": [
        "# Resolução: \n",
        "mensagem = 'Exemplo de mensagem!'\n",
        "print(mensagem)\n"
      ]
    },
    {
      "cell_type": "markdown",
      "metadata": {
        "id": "A2B14Upws_yM"
      },
      "source": [
        "## Exercício 02\n",
        "\n",
        "1. Declare uma variável chamada **`populacao`**\n",
        "2. Guarde o número da população da sua cidade nessa variável (pode chutar)\n",
        "3. Imprima **`populacao`** na tela\n",
        "4. Altere o conteúdo dessa variável para um outro número qualquer\n",
        "5. Imprima novamente **`populacao`** na tela"
      ]
    },
    {
      "cell_type": "code",
      "execution_count": 2,
      "metadata": {
        "id": "b5kZrhJ7wgFU",
        "colab": {
          "base_uri": "https://localhost:8080/"
        },
        "outputId": "c4fa3ab8-b7ab-44e5-a034-f409b378dc35"
      },
      "outputs": [
        {
          "output_type": "stream",
          "name": "stdout",
          "text": [
            "2000\n"
          ]
        }
      ],
      "source": [
        "# Resolução: \n",
        "populacao = 2000\n",
        "print(populacao)\n"
      ]
    },
    {
      "cell_type": "code",
      "execution_count": 3,
      "metadata": {
        "colab": {
          "base_uri": "https://localhost:8080/"
        },
        "id": "Znpy8Mxsb8aN",
        "outputId": "21a75d47-2814-4603-e9c3-c60008b7b8a0"
      },
      "outputs": [
        {
          "output_type": "stream",
          "name": "stdout",
          "text": [
            "4000\n"
          ]
        }
      ],
      "source": [
        "populacao = 4000\n",
        "print(populacao)"
      ]
    },
    {
      "cell_type": "markdown",
      "metadata": {
        "id": "KYVr0y1utu2-"
      },
      "source": [
        "## Exercício 03\n",
        "\n",
        "Resolva a seguinte equação utilizando variáveis:\n",
        "\n",
        "$w = x - y\\\\x = (5 + 7) * 2\\\\y = \\frac{12}{4 - 2}$\n"
      ]
    },
    {
      "cell_type": "code",
      "execution_count": 4,
      "metadata": {
        "id": "vj0H2uprwll4",
        "colab": {
          "base_uri": "https://localhost:8080/"
        },
        "outputId": "11794aff-d012-4f27-d672-aeb2df61814d"
      },
      "outputs": [
        {
          "output_type": "stream",
          "name": "stdout",
          "text": [
            "23.0\n"
          ]
        }
      ],
      "source": [
        "# Resolução: \n",
        "x = (5+7)*2\n",
        "y=12/4-2\n",
        "w=x-y\n",
        "print(w)"
      ]
    },
    {
      "cell_type": "markdown",
      "metadata": {
        "id": "eyqzdg2fwn8r"
      },
      "source": [
        "## Exercício 04\n",
        "\n",
        "Mostre na tela o valor de cada variável\n",
        "\n",
        "$w = a * b\\\\\n",
        "a = (7 - 1) \\\\\n",
        "b = g / d\\\\\n",
        "g = (2^3)$\n",
        "\n",
        "$d = 5$ % $2$ \n"
      ]
    },
    {
      "cell_type": "code",
      "execution_count": 5,
      "metadata": {
        "id": "L3w8XEZ9DA6M",
        "colab": {
          "base_uri": "https://localhost:8080/"
        },
        "outputId": "42372264-8910-4e79-afda-ca3f98e0e3fe"
      },
      "outputs": [
        {
          "output_type": "stream",
          "name": "stdout",
          "text": [
            "48.0\n"
          ]
        }
      ],
      "source": [
        "# Resolução: \n",
        "d= 5 % 2\n",
        "g = (2**3)\n",
        "b= g/d\n",
        "a= (7-1)\n",
        "w = a *b\n",
        "print(w)"
      ]
    },
    {
      "cell_type": "markdown",
      "metadata": {
        "id": "XlwaWW4Olndq"
      },
      "source": [
        "## Exercício 05\n",
        "1. Declare uma variável com um número qualquer\n",
        "2. Como descobrir se essa variável contém um número **par** ou **ímpar**?"
      ]
    },
    {
      "cell_type": "code",
      "execution_count": 6,
      "metadata": {
        "id": "5aXAg4b9lygD",
        "colab": {
          "base_uri": "https://localhost:8080/"
        },
        "outputId": "29ed43e9-c9b2-44ed-afe0-a0997b88c184"
      },
      "outputs": [
        {
          "output_type": "stream",
          "name": "stdout",
          "text": [
            "Digite um inteiro: 1\n",
            "Ímpar\n"
          ]
        }
      ],
      "source": [
        "# Resolução: \n",
        "numero = int(input('Digite um inteiro: '))\n",
        "if (numero%2) == 0:\n",
        "    print(\"Par\")\n",
        "else:\n",
        "    print(\"Ímpar\")"
      ]
    },
    {
      "cell_type": "markdown",
      "metadata": {
        "id": "j02A4-3YJhSr"
      },
      "source": [
        "## Exercício 06\n",
        "\n",
        "1.   Crie uma variável texto com seu nome completo\n",
        "2.   Quantos caracteres seu nome possui?\n",
        "3.   Imprima seu nome em letras maiúsculas\n",
        "4.   Substitua todas as letras A de seu nome por um traço “-”\n",
        "5.   Seu nome possui a letra p?\n"
      ]
    },
    {
      "cell_type": "code",
      "execution_count": 9,
      "metadata": {
        "id": "98c1gv1iJ4VL",
        "colab": {
          "base_uri": "https://localhost:8080/"
        },
        "outputId": "e718222f-404e-4b92-8a75-9c709a8fb259"
      },
      "outputs": [
        {
          "output_type": "execute_result",
          "data": {
            "text/plain": [
              "18"
            ]
          },
          "metadata": {},
          "execution_count": 9
        }
      ],
      "source": [
        "# Resolução: \n",
        "nome_completo = \"sarah_souza_pontes\"\n",
        "len(nome_completo)"
      ]
    },
    {
      "cell_type": "code",
      "execution_count": 15,
      "metadata": {
        "colab": {
          "base_uri": "https://localhost:8080/",
          "height": 35
        },
        "id": "BDSTgK9kb8aO",
        "outputId": "72c98577-1514-400a-892d-8676f6ee8f12"
      },
      "outputs": [
        {
          "output_type": "execute_result",
          "data": {
            "text/plain": [
              "'sarah_souza_pontes'"
            ],
            "application/vnd.google.colaboratory.intrinsic+json": {
              "type": "string"
            }
          },
          "metadata": {},
          "execution_count": 15
        }
      ],
      "source": [
        "nome_completo.lower()"
      ]
    },
    {
      "cell_type": "code",
      "execution_count": 16,
      "metadata": {
        "colab": {
          "base_uri": "https://localhost:8080/"
        },
        "id": "GNqb1MGvb8aO",
        "outputId": "5bbbc255-e5be-4863-ed5d-99745bc9789b"
      },
      "outputs": [
        {
          "output_type": "stream",
          "name": "stdout",
          "text": [
            "sarah_souza_pontes\n"
          ]
        }
      ],
      "source": [
        "print(nome_completo.replace(\"A\", \" -\"))"
      ]
    },
    {
      "cell_type": "code",
      "execution_count": 17,
      "metadata": {
        "colab": {
          "base_uri": "https://localhost:8080/"
        },
        "id": "zlfnLsfrb8aO",
        "outputId": "e7fa5b1b-73b2-42f9-b531-780a1a4f16b2"
      },
      "outputs": [
        {
          "output_type": "stream",
          "name": "stdout",
          "text": [
            "True\n"
          ]
        }
      ],
      "source": [
        "print( \"p\" in nome_completo)"
      ]
    },
    {
      "cell_type": "markdown",
      "metadata": {
        "id": "aHI2B2We3rBX"
      },
      "source": [
        "## Exercício 07\n",
        "\n",
        "1. Declare a variável `primeiro_nome` com o seu primeiro nome como valor;\n",
        "3. Declare a variável `ultimo_nome` com o seu último nome como valor;\n",
        "4. Mostre na tela as variáveis somadas como se fosse uma operação matemática na ordem do seu nome.\n"
      ]
    },
    {
      "cell_type": "code",
      "execution_count": 21,
      "metadata": {
        "id": "tgc0FeZE4vsf",
        "colab": {
          "base_uri": "https://localhost:8080/"
        },
        "outputId": "42eac2ed-bac2-4215-ef31-361ccbee14d5"
      },
      "outputs": [
        {
          "output_type": "stream",
          "name": "stdout",
          "text": [
            "Sarah Pontes\n"
          ]
        }
      ],
      "source": [
        "# Resolução: \n",
        "primeiro_nome = 'Sarah'\n",
        "ultimo_nome = 'Pontes'\n",
        "espaco = \" \"\n",
        "print(primeiro_nome +  espaco + ultimo_nome)"
      ]
    },
    {
      "cell_type": "markdown",
      "metadata": {
        "id": "ik2Lbrxh4zPb"
      },
      "source": [
        "## Exercício 08\n",
        "\n",
        "1. Copie as variáveis do exercício anterior;\n",
        "2. Declare a variável `apelido` com o seu apelido favorito como valor;\n",
        "4. Aplique as variáveis na seguinte frase:\n",
        "> \"O meu nome é [PRIMEIRO NOME] [ÚLTIMO NOME], mas muitos me chamam de [APELIDO]\"\n"
      ]
    },
    {
      "cell_type": "code",
      "execution_count": 22,
      "metadata": {
        "id": "-1vBlsM46OIf",
        "colab": {
          "base_uri": "https://localhost:8080/"
        },
        "outputId": "bda66abe-394a-4f29-b9f2-b8ab7e6f472e"
      },
      "outputs": [
        {
          "output_type": "stream",
          "name": "stdout",
          "text": [
            "O meu nome é Sarah Pontes, mas muitos me chamam de Sarinha\n"
          ]
        }
      ],
      "source": [
        "# Resolução: \n",
        "apelido = 'Sarinha'\n",
        "print(f\"O meu nome é {primeiro_nome} {ultimo_nome}, mas muitos me chamam de {apelido}\")"
      ]
    },
    {
      "cell_type": "markdown",
      "metadata": {
        "id": "abtRL97p1O5G"
      },
      "source": [
        "## Exercício 09\n",
        "\n",
        "Para saber se duas strings são iguais um dos métodos que temos é verificar o tamanho de caracteres de cada antes de fazer alguma comparação. Utilizando esse método, descubra se as Strings abaixo tem a possibilidade de ser iguais a partir do tamanho de cada uma delas.\n",
        "\n",
        "### Caso 1\n",
        "\n",
        "`str1 = n+MqY5X9b+DIh+9mQjLT89xDYylNaA4tARNQmqFCr9cz+27Jl3qxoxrmtST9VabY4LdBaTUQkjTK+xFq5g35T+hrp3XRiAbuJLqnGJPx1Z8T3WwAo8u1Hr3qR6u7vZxs`\n",
        "\n",
        "`str2 = n+MqY5X9b+DIh+9mQjLT89xDYylNaA4tARNQmqFCr9cz+27Jl3qxoxrmtST9VabY4LdBaTUQkjTK+xFq5g35T+hrp3XRiAbuJLqnGJPx1Z8T3WwAo8u1Hr3qR6u7vZxs`\n",
        "\n",
        "### Caso 2\n",
        "\n",
        "`str1 = n+MqY5X9b+DIh+9mQjLT89xDylNaA4tARNQmqFCr9cz+27Jl3qxoxrmtST9VabY4LdBaTUQkjTK+xFq5g35T+hrp3XRiAbuJLqnGJPx1Z8T3WwAo8u1Hr3qR6u7vZxs`\n",
        "\n",
        "`str2 = n+MqY5X9b+DIh+9mQjLT89xDYylNaA4tARNQmqFCr9cz+27Jl3qxoxrmtST9VabY4LdBaTUQkjTK+xFq5g35T+hrp3XRiAbuJLqnGJPx1Z8T3WwAo8u1Hr3qR6u7vZxs`[]"
      ]
    },
    {
      "cell_type": "code",
      "execution_count": 25,
      "metadata": {
        "id": "3Paha7MG1SSJ",
        "colab": {
          "base_uri": "https://localhost:8080/"
        },
        "outputId": "ad79b7fa-cec1-4222-bea7-f69118869b33"
      },
      "outputs": [
        {
          "output_type": "execute_result",
          "data": {
            "text/plain": [
              "True"
            ]
          },
          "metadata": {},
          "execution_count": 25
        }
      ],
      "source": [
        "# Resolução: \n",
        "str1 = 'n+MqY5X9b+DIh+9mQjLT89xDYylNaA4tARNQmqFCr9cz+27Jl3qxoxrmtST9VabY4LdBaTUQkjTK+xFq5g35T+hrp3XRiAbuJLqnGJPx1Z8T3WwAo8u1Hr3qR6u7vZxs'\n",
        "\n",
        "str2 = 'n+MqY5X9b+DIh+9mQjLT89xDYylNaA4tARNQmqFCr9cz+27Jl3qxoxrmtST9VabY4LdBaTUQkjTK+xFq5g35T+hrp3XRiAbuJLqnGJPx1Z8T3WwAo8u1Hr3qR6u7vZxs'\n",
        "\n",
        "len(str1) == len(str2)"
      ]
    },
    {
      "cell_type": "code",
      "execution_count": 27,
      "metadata": {
        "id": "Ic8xL-hNsFFp",
        "colab": {
          "base_uri": "https://localhost:8080/"
        },
        "outputId": "1234bb09-adb4-4d38-95ce-e8962872c88a"
      },
      "outputs": [
        {
          "output_type": "execute_result",
          "data": {
            "text/plain": [
              "False"
            ]
          },
          "metadata": {},
          "execution_count": 27
        }
      ],
      "source": [
        "# Resolução: \n",
        "str1 = 'n+MqY5X9b+DIh+9mQjLT89xDylNaA4tARNQmqFCr9cz+27Jl3qxoxrmtST9VabY4LdBaTUQkjTK+xFq5g35T+hrp3XRiAbuJLqnGJPx1Z8T3WwAo8u1Hr3qR6u7vZxs'\n",
        "\n",
        "str2 = 'n+MqY5X9b+DIh+9mQjLT89xDYylNaA4tARNQmqFCr9cz+27Jl3qxoxrmtST9VabY4LdBaTUQkjTK+xFq5g35T+hrp3XRiAbuJLqnGJPx1Z8T3WwAo8u1Hr3qR6u7vZxs'\n",
        "\n",
        "len(str1) == len(str2)"
      ]
    },
    {
      "cell_type": "markdown",
      "metadata": {
        "id": "Qss6ngn-Umcc"
      },
      "source": [
        "## Exercício 10\n",
        "\n",
        "O time com o qual você está trabalhando estava revisando um texto que precisava ser enviado urgente para um cliente e perceberam que existe um erro de digitação que acontece várias vezes ao longo do email. Eles precisam da sua ajuda para corrigir o texto:\n",
        "\n",
        "> O cuiddo em identificar ponts críticos na estrutura atual da organização deve passar por modificações independentemente do processo de comunicação como um todo. Desta maneira, o aumento do diálogo entre os diferentes setores produtivos causa impacto indireto na reavaliação das formas de ação. No entanto, não podemos esquecer que a crescente influência da mídia apresenta tendências no centido de aprovar a manutenção de alternativas às soluções ortodoxas.\n",
        "> \n",
        "> É claro que a execução dos ponts do programa representa uma abertura para a melhoria do cuiddo das direções preferenciais no centido do progresso. Podemos já vislumbrar o modo pelo qual a expansão dos mercados mundiais maximiza as possibilidades por conta do investimento em reciclagem técnica. A certificação de metodologias que nos auxiliam a lidar com o julgamento imparcial das eventualidades exige o cuiddo e a precisão e a definição das condições financeiras e administrativas exigidas.\n",
        "\n",
        "**Palavras a serem corrigidas:**\n",
        "\n",
        "errada | correta\n",
        "-------|--------\n",
        "ponts | pontos\n",
        "centido | sentido\n",
        "cuiddo | cuidado\n",
        "\n",
        "1. Declare uma variável para guaradar o texto;\n",
        "2. Utilize o `replace` para substituir as palavras erradas;\n",
        "3. Substitua o valor da variável existente pelo novo resultado;\n",
        "4. Repita até que todas as palavras tenham sido corrigidas. \n"
      ]
    },
    {
      "cell_type": "code",
      "execution_count": 31,
      "metadata": {
        "id": "JNdASD9oUp3k",
        "colab": {
          "base_uri": "https://localhost:8080/"
        },
        "outputId": "5d1f493b-e248-4587-ff35-73067f1ae79c"
      },
      "outputs": [
        {
          "output_type": "stream",
          "name": "stdout",
          "text": [
            "O cuidado em identificar pontos críticos na estrutura atual da organização deve passar por modificações independentemente do processo de comunicação como um todo. Desta maneira, o aumento do diálogo entre os diferentes setores produtivos causa impacto indireto na reavaliação das formas de ação. No entanto, não podemos esquecer que a crescente influência da mídia apresenta tendências no sentido de aprovar a manutenção de alternativas às soluções ortodoxas.É claro que a execução dos pontos do programa representa uma abertura para a melhoria do cuidado das direções preferenciais no sentido do progresso. Podemos já vislumbrar o modo pelo qual a expansão dos mercados mundiais maximiza as possibilidades por conta do investimento em reciclagem técnica. A certificação de metodologias que nos auxiliam a lidar com o julgamento imparcial das eventualidades exige o cuidado e a precisão e a definição das condições financeiras e administrativas exigidas.\n"
          ]
        }
      ],
      "source": [
        "# Resolução: \n",
        "texto = 'O cuiddo em identificar ponts críticos na estrutura atual da organização deve passar por modificações independentemente do processo de comunicação como um todo. Desta maneira, o aumento do diálogo entre os diferentes setores produtivos causa impacto indireto na reavaliação das formas de ação. No entanto, não podemos esquecer que a crescente influência da mídia apresenta tendências no centido de aprovar a manutenção de alternativas às soluções ortodoxas.É claro que a execução dos ponts do programa representa uma abertura para a melhoria do cuiddo das direções preferenciais no centido do progresso. Podemos já vislumbrar o modo pelo qual a expansão dos mercados mundiais maximiza as possibilidades por conta do investimento em reciclagem técnica. A certificação de metodologias que nos auxiliam a lidar com o julgamento imparcial das eventualidades exige o cuiddo e a precisão e a definição das condições financeiras e administrativas exigidas.'\n",
        "print(texto.replace(\"ponts\", \"pontos\").replace(\"centido\", \"sentido\").replace(\"cuiddo\", \"cuidado\"))"
      ]
    },
    {
      "cell_type": "markdown",
      "metadata": {
        "id": "5BAgdmV29NS6"
      },
      "source": [
        "## Exercício 11\n",
        "\n",
        "Você está trabalhando em contato com o setor de marketing e atualmente eles utilizam o seguinte texto para a apresentação aos investidores e precisam checar se todos as ideias chave foram mencionadas.\n",
        "\n",
        "> Neste sentido, o entendimento das metas propostas nos obriga à análise do remanejamento dos quadros funcionais. Por outro lado, a percepção das dificuldades oferece uma interessante oportunidade para verificação dos métodos utilizados na avaliação de resultados. Assim mesmo, a consolidação das estruturas promove a alavancagem dos relacionamentos verticais entre as hierarquias.\n",
        "> \n",
        "> A nível organizacional, a necessidade de renovação processual cumpre um papel essencial na formulação das posturas dos órgãos dirigentes com relação às suas atribuições. Caros amigos, o novo modelo estrutural aqui preconizado garante a contribuição de um grupo importante na determinação das novas proposições. A prática cotidiana prova que a consulta aos diversos militantes agrega valor ao estabelecimento dos modos de operação convencionais. Acima de tudo, é fundamental ressaltar que a constante divulgação das informações facilita a criação do sistema de formação de quadros que corresponde às necessidades. Nunca é demais lembrar o peso e o significado destes problemas, uma vez que a complexidade dos estudos efetuados é uma das consequências das condições inegavelmente apropriadas.\n",
        "\n",
        "**Palavras**\n",
        "- Nível Organizacional\n",
        "- Divulgação das Informações\n",
        "- Frequência de Publicações\n",
        "- Remanejamento dos Quadros\n",
        "\n",
        "1. Declare uma variável para guardar a informação do texto;\n",
        "2. Declare uma varivável para cada palavra a ser buscada;\n",
        "3. Imprima na tela para todas as variáveis se elas estão ou não presentes no texto;\n"
      ]
    },
    {
      "cell_type": "code",
      "execution_count": 38,
      "metadata": {
        "id": "OWyZ4tEMQ38l",
        "colab": {
          "base_uri": "https://localhost:8080/"
        },
        "outputId": "13af838c-aa7a-45cc-a236-ba08e9bbb868"
      },
      "outputs": [
        {
          "output_type": "stream",
          "name": "stdout",
          "text": [
            "True\n"
          ]
        }
      ],
      "source": [
        "# Resolução: \n",
        "texto = \"Neste sentido, o entendimento das metas propostas nos obriga à análise do remanejamento dos quadros funcionais. Por outro lado, a percepção das dificuldades oferece uma interessante oportunidade para verificação dos métodos utilizados na avaliação de resultados. Assim mesmo, a consolidação das estruturas promove a alavancagem dos relacionamentos verticais entre as hierarquias. A nível organizacional, a necessidade de renovação processual cumpre um papel essencial na formulação das posturas dos órgãos dirigentes com relação às suas atribuições. Caros amigos, o novo modelo estrutural aqui preconizado garante a contribuição de um grupo importante na determinação das novas proposições. A prática cotidiana prova que a consulta aos diversos militantes agrega valor ao estabelecimento dos modos de operação convencionais. Acima de tudo, é fundamental ressaltar que a constante divulgação das informações facilita a criação do sistema de formação de quadros que corresponde às necessidades. Nunca é demais lembrar o peso e o significado destes problemas, uma vez que a complexidade dos estudos efetuados é uma das consequências das condições inegavelmente apropriadas.\"\n",
        "\n",
        "buscar_palavra1 = \"sentido\"\n",
        "buscar_palavra2 = \"obriga\"\n",
        "\n",
        "print( buscar_palavra1 in texto)\n"
      ]
    },
    {
      "cell_type": "code",
      "source": [
        "print( buscar_palavra2 in texto)"
      ],
      "metadata": {
        "colab": {
          "base_uri": "https://localhost:8080/"
        },
        "id": "dEjiXnW8f1I5",
        "outputId": "a2328ebc-3964-4b32-d5cd-ff8e1425d6c0"
      },
      "execution_count": 39,
      "outputs": [
        {
          "output_type": "stream",
          "name": "stdout",
          "text": [
            "True\n"
          ]
        }
      ]
    }
  ],
  "metadata": {
    "colab": {
      "provenance": [],
      "include_colab_link": true
    },
    "kernelspec": {
      "display_name": "Python 3 (ipykernel)",
      "language": "python",
      "name": "python3"
    },
    "language_info": {
      "codemirror_mode": {
        "name": "ipython",
        "version": 3
      },
      "file_extension": ".py",
      "mimetype": "text/x-python",
      "name": "python",
      "nbconvert_exporter": "python",
      "pygments_lexer": "ipython3",
      "version": "3.9.13"
    }
  },
  "nbformat": 4,
  "nbformat_minor": 0
}